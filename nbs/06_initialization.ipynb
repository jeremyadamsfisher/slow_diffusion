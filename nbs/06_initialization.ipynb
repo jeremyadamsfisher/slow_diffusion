{
 "cells": [
  {
   "cell_type": "markdown",
   "metadata": {},
   "source": [
    "# Initialization\n",
    "\n",
    "> We need to make sure that our gradients do not explode or vanish. This should help us break down the apropriate initialization for each torch module."
   ]
  },
  {
   "cell_type": "code",
   "execution_count": null,
   "metadata": {},
   "outputs": [],
   "source": [
    "# |default_exp init"
   ]
  },
  {
   "cell_type": "code",
   "execution_count": null,
   "metadata": {},
   "outputs": [],
   "source": [
    "# |export\n",
    "from functools import singledispatch\n",
    "\n",
    "import matplotlib.pyplot as plt\n",
    "import torch\n",
    "from torch import nn\n",
    "\n",
    "from slow_diffusion.fashionmnist import TinyFashionMNISTDataModule\n",
    "from slow_diffusion.model import ConvBlock, TimeEmbeddingMixer"
   ]
  },
  {
   "cell_type": "code",
   "execution_count": null,
   "metadata": {},
   "outputs": [],
   "source": [
    "# |hide\n",
    "plt.style.use(\"ggplot\")"
   ]
  },
  {
   "cell_type": "code",
   "execution_count": null,
   "metadata": {},
   "outputs": [],
   "source": [
    "dm = TinyFashionMNISTDataModule(bs=32)\n",
    "dm.setup()"
   ]
  },
  {
   "cell_type": "code",
   "execution_count": null,
   "metadata": {},
   "outputs": [],
   "source": [
    "((x_t, t), ε) = next(iter(dm.train_dataloader()))\n",
    "x_t.shape"
   ]
  },
  {
   "cell_type": "markdown",
   "metadata": {},
   "source": [
    "Let's verify that the distribution remains normal after the transformation is applied."
   ]
  },
  {
   "cell_type": "code",
   "execution_count": null,
   "metadata": {},
   "outputs": [],
   "source": [
    "@singledispatch\n",
    "def kaiming(module):\n",
    "    ..."
   ]
  },
  {
   "cell_type": "code",
   "execution_count": null,
   "metadata": {},
   "outputs": [],
   "source": [
    "@kaiming.register(ConvBlock)\n",
    "def _(c: ConvBlock):\n",
    "    if isinstance(c.act, nn.ReLU):\n",
    "        torch.nn.init.kaiming_normal_(c.conv.weight, a=0.0)\n",
    "    elif isinstance(c.act, nn.SiLU):\n",
    "        torch.nn.init.kaiming_normal_(c.conv.weight, a=0.2)\n",
    "    else:\n",
    "        raise ValueError\n",
    "    if c.conv.bias is not None:\n",
    "        torch.nn.init.constant_(c.conv.bias, 0)"
   ]
  },
  {
   "cell_type": "code",
   "execution_count": null,
   "metadata": {},
   "outputs": [],
   "source": [
    "conv_relu_default = ConvBlock(1, 1, act=nn.ReLU)\n",
    "conv_relu = ConvBlock(1, 1, act=nn.ReLU)\n",
    "conv_silu_default = ConvBlock(1, 1, act=nn.SiLU)\n",
    "conv_silu = ConvBlock(1, 1, act=nn.SiLU)\n",
    "for m in [conv_relu, conv_silu]:\n",
    "    kaiming(m)"
   ]
  },
  {
   "cell_type": "code",
   "execution_count": null,
   "metadata": {},
   "outputs": [],
   "source": [
    "def plot_distribution_variance(xb, args, modules: list[tuple[str, nn.Module]]):\n",
    "    fig, axes = plt.subplots(1, len(modules), figsize=(4 * len(modules), 4))\n",
    "    for ax, (label, c) in zip(axes, cs):\n",
    "        _, bins, _ = ax.hist(xb.reshape(-1), bins=30, alpha=0.5, label=\"input\")\n",
    "        with torch.no_grad():\n",
    "            yb = c(*args)\n",
    "        ax.hist(yb.reshape(-1), bins, alpha=0.33, label=label)\n",
    "        ax.set(xlabel=\"Logit magnitude\", ylabel=\"Frequency\", title=label)"
   ]
  },
  {
   "cell_type": "code",
   "execution_count": null,
   "metadata": {},
   "outputs": [],
   "source": [
    "cs = [\n",
    "    (\"default relu\", conv_relu_default),\n",
    "    (\"kaiming relu\", conv_relu),\n",
    "    (\"default silu\", conv_silu_default),\n",
    "    (\"kaiming silu\", conv_silu),\n",
    "]\n",
    "plot_distribution_variance(x_t, (x_t,), cs)"
   ]
  },
  {
   "cell_type": "code",
   "execution_count": null,
   "metadata": {},
   "outputs": [],
   "source": [
    "@kaiming.register(TimeEmbeddingMixer)\n",
    "def _(t: TimeEmbeddingMixer):\n",
    "    ..."
   ]
  },
  {
   "cell_type": "markdown",
   "metadata": {},
   "source": [
    "Good! The Kaiming methods preserve the distribution variance, unlike default."
   ]
  },
  {
   "cell_type": "code",
   "execution_count": null,
   "metadata": {},
   "outputs": [],
   "source": [
    "#| hide\n",
    "import nbdev\n",
    "\n",
    "nbdev.nbdev_export()"
   ]
  },
  {
   "cell_type": "code",
   "execution_count": null,
   "metadata": {},
   "outputs": [],
   "source": []
  }
 ],
 "metadata": {
  "kernelspec": {
   "display_name": "SlowDiffusion",
   "language": "python",
   "name": "slow_diffusion"
  },
  "language_info": {
   "codemirror_mode": {
    "name": "ipython",
    "version": 3
   },
   "file_extension": ".py",
   "mimetype": "text/x-python",
   "name": "python",
   "nbconvert_exporter": "python",
   "pygments_lexer": "ipython3",
   "version": "3.11.5"
  }
 },
 "nbformat": 4,
 "nbformat_minor": 4
}
