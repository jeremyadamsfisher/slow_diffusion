{
 "cells": [
  {
   "cell_type": "markdown",
   "metadata": {},
   "source": [
    "# Monitoring\n",
    "\n",
    "> Monitor different aspects of the model and training run"
   ]
  },
  {
   "cell_type": "code",
   "execution_count": 1,
   "metadata": {},
   "outputs": [],
   "source": [
    "#| default_exp monitoring"
   ]
  },
  {
   "cell_type": "code",
   "execution_count": 2,
   "metadata": {},
   "outputs": [
    {
     "name": "stderr",
     "output_type": "stream",
     "text": [
      "/home/jeremy/micromamba/envs/slow_diffusion/lib/python3.10/site-packages/tqdm/auto.py:21: TqdmWarning: IProgress not found. Please update jupyter and ipywidgets. See https://ipywidgets.readthedocs.io/en/stable/user_install.html\n",
      "  from .autonotebook import tqdm as notebook_tqdm\n"
     ]
    }
   ],
   "source": [
    "# |export\n",
    "import re\n",
    "from argparse import Namespace\n",
    "from collections import Counter\n",
    "\n",
    "import lightning as L\n",
    "import matplotlib.pyplot as plt\n",
    "import wandb\n",
    "from glom import glom\n",
    "from lightning.pytorch.loggers import WandbLogger\n",
    "from torch import nn\n",
    "\n",
    "from slow_diffusion.fashionmnist import FashionMNISTDataModule\n",
    "from slow_diffusion.training import get_tiny_unet"
   ]
  },
  {
   "cell_type": "markdown",
   "metadata": {},
   "source": [
    "We want to make sure the model can be inspected"
   ]
  },
  {
   "cell_type": "code",
   "execution_count": 3,
   "metadata": {},
   "outputs": [],
   "source": [
    "def test_run(callback):\n",
    "    with wandb.init():\n",
    "        wandb_logger = WandbLogger()\n",
    "        dm = FashionMNISTDataModule(256, n_workers=7)\n",
    "        dm.setup()\n",
    "        model = get_tiny_unet()\n",
    "        trainer = L.Trainer(\n",
    "            max_epochs=1,\n",
    "            callbacks=[callback],\n",
    "            logger=WandbLogger(),\n",
    "            precision=\"bf16-mixed\",\n",
    "            log_every_n_steps=1,\n",
    "        )\n",
    "        trainer.fit(model=model, datamodule=dm)"
   ]
  },
  {
   "cell_type": "code",
   "execution_count": 4,
   "metadata": {},
   "outputs": [],
   "source": [
    "# |export\n",
    "class MonitorCallback(L.Callback):\n",
    "    \"\"\"Log arbitrary properties in the training run, such as LR.\"\"\"\n",
    "\n",
    "    def __init__(self, gloms: dict[str, str]):\n",
    "        super().__init__()\n",
    "        if not gloms:\n",
    "            raise ValueError\n",
    "        self.gloms = gloms\n",
    "\n",
    "    def on_train_batch_end(self, trainer, pl_module, outputs, batch, batch_idx):\n",
    "        args = Namespace(\n",
    "            trainer=trainer,\n",
    "            pl_module=pl_module,\n",
    "            outputs=outputs,\n",
    "            batch=batch,\n",
    "            batch_idx=batch_idx,\n",
    "        )\n",
    "        for name, spec in self.gloms.items():\n",
    "            self.log(name, glom(args, spec), on_step=True)"
   ]
  },
  {
   "cell_type": "code",
   "execution_count": 5,
   "metadata": {
    "scrolled": true
   },
   "outputs": [
    {
     "name": "stderr",
     "output_type": "stream",
     "text": [
      "Failed to detect the name of this notebook, you can set it manually with the WANDB_NOTEBOOK_NAME environment variable to enable code saving.\n",
      "\u001b[34m\u001b[1mwandb\u001b[0m: Currently logged in as: \u001b[33mjfisher40\u001b[0m. Use \u001b[1m`wandb login --relogin`\u001b[0m to force relogin\n"
     ]
    },
    {
     "data": {
      "text/html": [
       "wandb version 0.17.7 is available!  To upgrade, please run:\n",
       " $ pip install wandb --upgrade"
      ],
      "text/plain": [
       "<IPython.core.display.HTML object>"
      ]
     },
     "metadata": {},
     "output_type": "display_data"
    },
    {
     "data": {
      "text/html": [
       "Tracking run with wandb version 0.17.5"
      ],
      "text/plain": [
       "<IPython.core.display.HTML object>"
      ]
     },
     "metadata": {},
     "output_type": "display_data"
    },
    {
     "data": {
      "text/html": [
       "Run data is saved locally in <code>/home/jeremy/Desktop/slow_diffusion/nbs/wandb/run-20240818_123657-2rvls51y</code>"
      ],
      "text/plain": [
       "<IPython.core.display.HTML object>"
      ]
     },
     "metadata": {},
     "output_type": "display_data"
    },
    {
     "data": {
      "text/html": [
       "Syncing run <strong><a href='https://wandb.ai/jfisher40/slow_diffusion-nbs/runs/2rvls51y' target=\"_blank\">upbeat-voice-56</a></strong> to <a href='https://wandb.ai/jfisher40/slow_diffusion-nbs' target=\"_blank\">Weights & Biases</a> (<a href='https://wandb.me/run' target=\"_blank\">docs</a>)<br/>"
      ],
      "text/plain": [
       "<IPython.core.display.HTML object>"
      ]
     },
     "metadata": {},
     "output_type": "display_data"
    },
    {
     "data": {
      "text/html": [
       " View project at <a href='https://wandb.ai/jfisher40/slow_diffusion-nbs' target=\"_blank\">https://wandb.ai/jfisher40/slow_diffusion-nbs</a>"
      ],
      "text/plain": [
       "<IPython.core.display.HTML object>"
      ]
     },
     "metadata": {},
     "output_type": "display_data"
    },
    {
     "data": {
      "text/html": [
       " View run at <a href='https://wandb.ai/jfisher40/slow_diffusion-nbs/runs/2rvls51y' target=\"_blank\">https://wandb.ai/jfisher40/slow_diffusion-nbs/runs/2rvls51y</a>"
      ],
      "text/plain": [
       "<IPython.core.display.HTML object>"
      ]
     },
     "metadata": {},
     "output_type": "display_data"
    },
    {
     "name": "stderr",
     "output_type": "stream",
     "text": [
      "Using bfloat16 Automatic Mixed Precision (AMP)\n",
      "GPU available: True (cuda), used: True\n",
      "TPU available: False, using: 0 TPU cores\n",
      "HPU available: False, using: 0 HPUs\n",
      "You are using a CUDA device ('NVIDIA GeForce RTX 3090') that has Tensor Cores. To properly utilize them, you should set `torch.set_float32_matmul_precision('medium' | 'high')` which will trade-off precision for performance. For more details, read https://pytorch.org/docs/stable/generated/torch.set_float32_matmul_precision.html#torch.set_float32_matmul_precision\n",
      "/home/jeremy/micromamba/envs/slow_diffusion/lib/python3.10/site-packages/lightning/pytorch/loggers/wandb.py:396: There is a wandb run already in progress and newly created instances of `WandbLogger` will reuse this run. If this is not desired, call `wandb.finish()` before instantiating `WandbLogger`.\n",
      "LOCAL_RANK: 0 - CUDA_VISIBLE_DEVICES: [0]\n",
      "Loading `train_dataloader` to estimate number of stepping batches.\n",
      "\n",
      "  | Name    | Type    | Params | Mode \n",
      "--------------------------------------------\n",
      "0 | unet    | Unet    | 185 M  | train\n",
      "1 | loss_fn | MSELoss | 0      | train\n",
      "--------------------------------------------\n",
      "185 M     Trainable params\n",
      "0         Non-trainable params\n",
      "185 M     Total params\n",
      "742.125   Total estimated model params size (MB)\n"
     ]
    },
    {
     "name": "stdout",
     "output_type": "stream",
     "text": [
      "Epoch 0: 100%|██████████████████| 235/235 [05:03<00:00,  0.77it/s, v_num=s51y]\n",
      "Validation: |                                           | 0/? [00:00<?, ?it/s]\u001b[A\n",
      "Validation:   0%|                                      | 0/40 [00:00<?, ?it/s]\u001b[A\n",
      "Validation DataLoader 0:   0%|                         | 0/40 [00:00<?, ?it/s]\u001b[A\n",
      "Validation DataLoader 0:   2%|▍                | 1/40 [00:00<00:00, 41.84it/s]\u001b[A\n",
      "Validation DataLoader 0:   5%|▊                | 2/40 [00:00<00:00, 45.99it/s]\u001b[A\n",
      "Validation DataLoader 0:   8%|█▎               | 3/40 [00:00<00:05,  7.07it/s]\u001b[A\n",
      "Validation DataLoader 0:  10%|█▋               | 4/40 [00:00<00:07,  4.81it/s]\u001b[A\n",
      "Validation DataLoader 0:  12%|██▏              | 5/40 [00:01<00:08,  4.03it/s]\u001b[A\n",
      "Validation DataLoader 0:  15%|██▌              | 6/40 [00:01<00:09,  3.64it/s]\u001b[A\n",
      "Validation DataLoader 0:  18%|██▉              | 7/40 [00:02<00:09,  3.40it/s]\u001b[A\n",
      "Validation DataLoader 0:  20%|███▍             | 8/40 [00:02<00:09,  3.24it/s]\u001b[A\n",
      "Validation DataLoader 0:  22%|███▊             | 9/40 [00:02<00:09,  3.13it/s]\u001b[A\n",
      "Validation DataLoader 0:  25%|████            | 10/40 [00:03<00:09,  3.04it/s]\u001b[A\n",
      "Validation DataLoader 0:  28%|████▍           | 11/40 [00:03<00:09,  2.98it/s]\u001b[A\n",
      "Validation DataLoader 0:  30%|████▊           | 12/40 [00:04<00:09,  2.93it/s]\u001b[A\n",
      "Validation DataLoader 0:  32%|█████▏          | 13/40 [00:04<00:09,  2.88it/s]\u001b[A\n",
      "Validation DataLoader 0:  35%|█████▌          | 14/40 [00:04<00:09,  2.85it/s]\u001b[A\n",
      "Validation DataLoader 0:  38%|██████          | 15/40 [00:05<00:08,  2.82it/s]\u001b[A\n",
      "Validation DataLoader 0:  40%|██████▍         | 16/40 [00:05<00:08,  2.79it/s]\u001b[A\n",
      "Validation DataLoader 0:  42%|██████▊         | 17/40 [00:06<00:08,  2.77it/s]\u001b[A\n",
      "Validation DataLoader 0:  45%|███████▏        | 18/40 [00:06<00:08,  2.75it/s]\u001b[A\n",
      "Validation DataLoader 0:  48%|███████▌        | 19/40 [00:06<00:07,  2.73it/s]\u001b[A\n",
      "Validation DataLoader 0:  50%|████████        | 20/40 [00:07<00:07,  2.71it/s]\u001b[A\n",
      "Validation DataLoader 0:  52%|████████▍       | 21/40 [00:07<00:07,  2.70it/s]\u001b[A\n",
      "Validation DataLoader 0:  55%|████████▊       | 22/40 [00:08<00:06,  2.69it/s]\u001b[A\n",
      "Validation DataLoader 0:  57%|█████████▏      | 23/40 [00:08<00:06,  2.67it/s]\u001b[A\n",
      "Validation DataLoader 0:  60%|█████████▌      | 24/40 [00:09<00:06,  2.66it/s]\u001b[A\n",
      "Validation DataLoader 0:  62%|██████████      | 25/40 [00:09<00:05,  2.65it/s]\u001b[A\n",
      "Validation DataLoader 0:  65%|██████████▍     | 26/40 [00:09<00:05,  2.65it/s]\u001b[A\n",
      "Validation DataLoader 0:  68%|██████████▊     | 27/40 [00:10<00:04,  2.64it/s]\u001b[A\n",
      "Validation DataLoader 0:  70%|███████████▏    | 28/40 [00:10<00:04,  2.63it/s]\u001b[A\n",
      "Validation DataLoader 0:  72%|███████████▌    | 29/40 [00:11<00:04,  2.62it/s]\u001b[A\n",
      "Validation DataLoader 0:  75%|████████████    | 30/40 [00:11<00:03,  2.62it/s]\u001b[A\n",
      "Validation DataLoader 0:  78%|████████████▍   | 31/40 [00:11<00:03,  2.61it/s]\u001b[A\n",
      "Validation DataLoader 0:  80%|████████████▊   | 32/40 [00:12<00:03,  2.61it/s]\u001b[A\n",
      "Validation DataLoader 0:  82%|█████████████▏  | 33/40 [00:12<00:02,  2.60it/s]\u001b[A\n",
      "Validation DataLoader 0:  85%|█████████████▌  | 34/40 [00:13<00:02,  2.60it/s]\u001b[A\n",
      "Validation DataLoader 0:  88%|██████████████  | 35/40 [00:13<00:01,  2.59it/s]\u001b[A\n",
      "Validation DataLoader 0:  90%|██████████████▍ | 36/40 [00:13<00:01,  2.59it/s]\u001b[A\n",
      "Validation DataLoader 0:  92%|██████████████▊ | 37/40 [00:14<00:01,  2.58it/s]\u001b[A\n",
      "Validation DataLoader 0:  95%|███████████████▏| 38/40 [00:14<00:00,  2.58it/s]\u001b[A\n",
      "Validation DataLoader 0:  98%|███████████████▌| 39/40 [00:15<00:00,  2.58it/s]\u001b[A\n",
      "Validation DataLoader 0: 100%|████████████████| 40/40 [00:16<00:00,  2.49it/s]\u001b[A\n",
      "Epoch 0: 100%|██████████████████| 235/235 [05:20<00:00,  0.73it/s, v_num=s51y]\u001b[A"
     ]
    },
    {
     "name": "stderr",
     "output_type": "stream",
     "text": [
      "`Trainer.fit` stopped: `max_epochs=1` reached.\n"
     ]
    },
    {
     "name": "stdout",
     "output_type": "stream",
     "text": [
      "Epoch 0: 100%|██████████████████| 235/235 [05:25<00:00,  0.72it/s, v_num=s51y]\n"
     ]
    },
    {
     "data": {
      "text/html": [
       "<style>\n",
       "    table.wandb td:nth-child(1) { padding: 0 10px; text-align: left ; width: auto;} td:nth-child(2) {text-align: left ; width: 100%}\n",
       "    .wandb-row { display: flex; flex-direction: row; flex-wrap: wrap; justify-content: flex-start; width: 100% }\n",
       "    .wandb-col { display: flex; flex-direction: column; flex-basis: 100%; flex: 1; padding: 10px; }\n",
       "    </style>\n",
       "<div class=\"wandb-row\"><div class=\"wandb-col\"><h3>Run history:</h3><br/><table class=\"wandb\"><tr><td>epoch</td><td>▁▁▁▁▁▁▁▁▁▁▁▁▁▁▁▁▁▁▁▁▁▁▁▁▁▁▁▁▁▁▁▁▁▁▁▁▁▁▁▁</td></tr><tr><td>lr</td><td>▁▁▂▂▃▄▅▆▇▇███████▇▇▇▆▆▆▅▅▅▄▄▃▃▃▂▂▂▂▁▁▁▁▁</td></tr><tr><td>test_loss</td><td>▁</td></tr><tr><td>train_loss</td><td>█▂▁▁▁▂▂▂▂▂▂▂▂▂▂▂▂▂▂▂▂▂▂▂▂▂▂▂▂▂▂▂▂▂▂▂▂▂▂▂</td></tr><tr><td>trainer/global_step</td><td>▁▁▁▂▂▂▂▂▂▃▃▃▃▃▄▄▄▄▄▄▅▅▅▅▅▆▆▆▆▆▆▇▇▇▇▇▇███</td></tr></table><br/></div><div class=\"wandb-col\"><h3>Run summary:</h3><br/><table class=\"wandb\"><tr><td>epoch</td><td>0</td></tr><tr><td>lr</td><td>0.0</td></tr><tr><td>test_loss</td><td>1.00017</td></tr><tr><td>train_loss</td><td>0.99471</td></tr><tr><td>trainer/global_step</td><td>234</td></tr></table><br/></div></div>"
      ],
      "text/plain": [
       "<IPython.core.display.HTML object>"
      ]
     },
     "metadata": {},
     "output_type": "display_data"
    },
    {
     "data": {
      "text/html": [
       " View run <strong style=\"color:#cdcd00\">upbeat-voice-56</strong> at: <a href='https://wandb.ai/jfisher40/slow_diffusion-nbs/runs/2rvls51y' target=\"_blank\">https://wandb.ai/jfisher40/slow_diffusion-nbs/runs/2rvls51y</a><br/> View project at: <a href='https://wandb.ai/jfisher40/slow_diffusion-nbs' target=\"_blank\">https://wandb.ai/jfisher40/slow_diffusion-nbs</a><br/>Synced 5 W&B file(s), 0 media file(s), 0 artifact file(s) and 0 other file(s)"
      ],
      "text/plain": [
       "<IPython.core.display.HTML object>"
      ]
     },
     "metadata": {},
     "output_type": "display_data"
    },
    {
     "data": {
      "text/html": [
       "Find logs at: <code>./wandb/run-20240818_123657-2rvls51y/logs</code>"
      ],
      "text/plain": [
       "<IPython.core.display.HTML object>"
      ]
     },
     "metadata": {},
     "output_type": "display_data"
    },
    {
     "data": {
      "text/html": [
       "The new W&B backend becomes opt-out in version 0.18.0; try it out with `wandb.require(\"core\")`! See https://wandb.me/wandb-core for more information."
      ],
      "text/plain": [
       "<IPython.core.display.HTML object>"
      ]
     },
     "metadata": {},
     "output_type": "display_data"
    },
    {
     "name": "stdout",
     "output_type": "stream",
     "text": [
      "CPU times: user 4min 24s, sys: 1min 4s, total: 5min 29s\n",
      "Wall time: 5min 37s\n"
     ]
    }
   ],
   "source": [
    "%%time\n",
    "test_run(MonitorCallback({\"lr\": \"trainer.optimizers.0.param_groups.0.lr\"}))"
   ]
  },
  {
   "cell_type": "code",
   "execution_count": 11,
   "metadata": {},
   "outputs": [],
   "source": [
    "model = get_tiny_unet()"
   ]
  },
  {
   "cell_type": "code",
   "execution_count": 13,
   "metadata": {},
   "outputs": [
    {
     "data": {
      "text/plain": [
       "tensor(23312)"
      ]
     },
     "execution_count": 13,
     "metadata": {},
     "output_type": "execute_result"
    }
   ],
   "source": [
    "zeros = 0\n",
    "for _, params in model.named_parameters():\n",
    "    zeros += (params == 0).sum()\n",
    "zeros"
   ]
  },
  {
   "cell_type": "code",
   "execution_count": 14,
   "metadata": {},
   "outputs": [],
   "source": [
    "# |exports\n",
    "class CountDeadUnitsCallback(L.Callback):\n",
    "    \"\"\"Check for numeric underflow or overflow\"\"\"\n",
    "\n",
    "    def __init__(self):\n",
    "        super().__init__()\n",
    "\n",
    "    def on_train_batch_end(self, trainer, pl_module, outputs, batch, batch_idx):\n",
    "        nans = 0\n",
    "        zeros = 0\n",
    "        for _, params in pl_module.named_parameters():\n",
    "            nans += params.isnan().int().sum().item()\n",
    "            zeros += (params == 0).sum().item()\n",
    "        self.log(\"nans\", nans, reduce_fx=max)\n",
    "        self.log(\"zeros\", zeros, reduce_fx=max)"
   ]
  },
  {
   "cell_type": "code",
   "execution_count": 15,
   "metadata": {},
   "outputs": [
    {
     "data": {
      "text/html": [
       "wandb version 0.17.7 is available!  To upgrade, please run:\n",
       " $ pip install wandb --upgrade"
      ],
      "text/plain": [
       "<IPython.core.display.HTML object>"
      ]
     },
     "metadata": {},
     "output_type": "display_data"
    },
    {
     "data": {
      "text/html": [
       "Tracking run with wandb version 0.17.5"
      ],
      "text/plain": [
       "<IPython.core.display.HTML object>"
      ]
     },
     "metadata": {},
     "output_type": "display_data"
    },
    {
     "data": {
      "text/html": [
       "Run data is saved locally in <code>/home/jeremy/Desktop/slow_diffusion/nbs/wandb/run-20240818_170544-lgzjd9oj</code>"
      ],
      "text/plain": [
       "<IPython.core.display.HTML object>"
      ]
     },
     "metadata": {},
     "output_type": "display_data"
    },
    {
     "data": {
      "text/html": [
       "Syncing run <strong><a href='https://wandb.ai/jfisher40/slow_diffusion-nbs/runs/lgzjd9oj' target=\"_blank\">comic-fog-59</a></strong> to <a href='https://wandb.ai/jfisher40/slow_diffusion-nbs' target=\"_blank\">Weights & Biases</a> (<a href='https://wandb.me/run' target=\"_blank\">docs</a>)<br/>"
      ],
      "text/plain": [
       "<IPython.core.display.HTML object>"
      ]
     },
     "metadata": {},
     "output_type": "display_data"
    },
    {
     "data": {
      "text/html": [
       " View project at <a href='https://wandb.ai/jfisher40/slow_diffusion-nbs' target=\"_blank\">https://wandb.ai/jfisher40/slow_diffusion-nbs</a>"
      ],
      "text/plain": [
       "<IPython.core.display.HTML object>"
      ]
     },
     "metadata": {},
     "output_type": "display_data"
    },
    {
     "data": {
      "text/html": [
       " View run at <a href='https://wandb.ai/jfisher40/slow_diffusion-nbs/runs/lgzjd9oj' target=\"_blank\">https://wandb.ai/jfisher40/slow_diffusion-nbs/runs/lgzjd9oj</a>"
      ],
      "text/plain": [
       "<IPython.core.display.HTML object>"
      ]
     },
     "metadata": {},
     "output_type": "display_data"
    },
    {
     "name": "stderr",
     "output_type": "stream",
     "text": [
      "Using bfloat16 Automatic Mixed Precision (AMP)\n",
      "GPU available: True (cuda), used: True\n",
      "TPU available: False, using: 0 TPU cores\n",
      "HPU available: False, using: 0 HPUs\n",
      "/home/jeremy/micromamba/envs/slow_diffusion/lib/python3.10/site-packages/lightning/pytorch/loggers/wandb.py:396: There is a wandb run already in progress and newly created instances of `WandbLogger` will reuse this run. If this is not desired, call `wandb.finish()` before instantiating `WandbLogger`.\n",
      "LOCAL_RANK: 0 - CUDA_VISIBLE_DEVICES: [0]\n",
      "Loading `train_dataloader` to estimate number of stepping batches.\n",
      "\n",
      "  | Name    | Type    | Params | Mode \n",
      "--------------------------------------------\n",
      "0 | unet    | Unet    | 185 M  | train\n",
      "1 | loss_fn | MSELoss | 0      | train\n",
      "--------------------------------------------\n",
      "185 M     Trainable params\n",
      "0         Non-trainable params\n",
      "185 M     Total params\n",
      "742.125   Total estimated model params size (MB)\n"
     ]
    },
    {
     "name": "stdout",
     "output_type": "stream",
     "text": [
      "Epoch 0: 100%|██████████████████████████████████████████| 235/235 [05:06<00:00,  0.77it/s, v_num=d9oj]\n",
      "Validation: |                                                                   | 0/? [00:00<?, ?it/s]\u001b[A\n",
      "Validation:   0%|                                                              | 0/40 [00:00<?, ?it/s]\u001b[A\n",
      "Validation DataLoader 0:   0%|                                                 | 0/40 [00:00<?, ?it/s]\u001b[A\n",
      "Validation DataLoader 0:   2%|█                                        | 1/40 [00:00<00:00, 46.72it/s]\u001b[A\n",
      "Validation DataLoader 0:   5%|██                                       | 2/40 [00:00<00:05,  7.07it/s]\u001b[A\n",
      "Validation DataLoader 0:   8%|███                                      | 3/40 [00:00<00:06,  5.72it/s]\u001b[A\n",
      "Validation DataLoader 0:  10%|████                                     | 4/40 [00:00<00:07,  4.81it/s]\u001b[A\n",
      "Validation DataLoader 0:  12%|█████▏                                   | 5/40 [00:01<00:08,  4.04it/s]\u001b[A\n",
      "Validation DataLoader 0:  15%|██████▏                                  | 6/40 [00:01<00:09,  3.65it/s]\u001b[A\n",
      "Validation DataLoader 0:  18%|███████▏                                 | 7/40 [00:02<00:09,  3.41it/s]\u001b[A\n",
      "Validation DataLoader 0:  20%|████████▏                                | 8/40 [00:02<00:09,  3.25it/s]\u001b[A\n",
      "Validation DataLoader 0:  22%|█████████▏                               | 9/40 [00:02<00:09,  3.14it/s]\u001b[A\n",
      "Validation DataLoader 0:  25%|██████████                              | 10/40 [00:03<00:09,  3.06it/s]\u001b[A\n",
      "Validation DataLoader 0:  28%|███████████                             | 11/40 [00:03<00:09,  2.99it/s]\u001b[A\n",
      "Validation DataLoader 0:  30%|████████████                            | 12/40 [00:04<00:09,  2.94it/s]\u001b[A\n",
      "Validation DataLoader 0:  32%|█████████████                           | 13/40 [00:04<00:09,  2.89it/s]\u001b[A\n",
      "Validation DataLoader 0:  35%|██████████████                          | 14/40 [00:04<00:09,  2.86it/s]\u001b[A\n",
      "Validation DataLoader 0:  38%|███████████████                         | 15/40 [00:05<00:08,  2.83it/s]\u001b[A\n",
      "Validation DataLoader 0:  40%|████████████████                        | 16/40 [00:05<00:08,  2.80it/s]\u001b[A\n",
      "Validation DataLoader 0:  42%|█████████████████                       | 17/40 [00:06<00:08,  2.78it/s]\u001b[A\n",
      "Validation DataLoader 0:  45%|██████████████████                      | 18/40 [00:06<00:07,  2.76it/s]\u001b[A\n",
      "Validation DataLoader 0:  48%|███████████████████                     | 19/40 [00:06<00:07,  2.74it/s]\u001b[A\n",
      "Validation DataLoader 0:  50%|████████████████████                    | 20/40 [00:07<00:07,  2.72it/s]\u001b[A\n",
      "Validation DataLoader 0:  52%|█████████████████████                   | 21/40 [00:07<00:07,  2.71it/s]\u001b[A\n",
      "Validation DataLoader 0:  55%|██████████████████████                  | 22/40 [00:08<00:06,  2.70it/s]\u001b[A\n",
      "Validation DataLoader 0:  57%|███████████████████████                 | 23/40 [00:08<00:06,  2.69it/s]\u001b[A\n",
      "Validation DataLoader 0:  60%|████████████████████████                | 24/40 [00:08<00:05,  2.68it/s]\u001b[A\n",
      "Validation DataLoader 0:  62%|█████████████████████████               | 25/40 [00:09<00:05,  2.67it/s]\u001b[A\n",
      "Validation DataLoader 0:  65%|██████████████████████████              | 26/40 [00:09<00:05,  2.66it/s]\u001b[A\n",
      "Validation DataLoader 0:  68%|███████████████████████████             | 27/40 [00:10<00:04,  2.65it/s]\u001b[A\n",
      "Validation DataLoader 0:  70%|████████████████████████████            | 28/40 [00:10<00:04,  2.64it/s]\u001b[A\n",
      "Validation DataLoader 0:  72%|█████████████████████████████           | 29/40 [00:11<00:04,  2.64it/s]\u001b[A\n",
      "Validation DataLoader 0:  75%|██████████████████████████████          | 30/40 [00:11<00:03,  2.63it/s]\u001b[A\n",
      "Validation DataLoader 0:  78%|███████████████████████████████         | 31/40 [00:11<00:03,  2.62it/s]\u001b[A\n",
      "Validation DataLoader 0:  80%|████████████████████████████████        | 32/40 [00:12<00:03,  2.62it/s]\u001b[A\n",
      "Validation DataLoader 0:  82%|█████████████████████████████████       | 33/40 [00:12<00:02,  2.61it/s]\u001b[A\n",
      "Validation DataLoader 0:  85%|██████████████████████████████████      | 34/40 [00:13<00:02,  2.61it/s]\u001b[A\n",
      "Validation DataLoader 0:  88%|███████████████████████████████████     | 35/40 [00:13<00:01,  2.60it/s]\u001b[A\n",
      "Validation DataLoader 0:  90%|████████████████████████████████████    | 36/40 [00:13<00:01,  2.60it/s]\u001b[A\n",
      "Validation DataLoader 0:  92%|█████████████████████████████████████   | 37/40 [00:14<00:01,  2.59it/s]\u001b[A\n",
      "Validation DataLoader 0:  95%|██████████████████████████████████████  | 38/40 [00:14<00:00,  2.59it/s]\u001b[A\n",
      "Validation DataLoader 0:  98%|███████████████████████████████████████ | 39/40 [00:15<00:00,  2.59it/s]\u001b[A\n",
      "Validation DataLoader 0: 100%|████████████████████████████████████████| 40/40 [00:15<00:00,  2.58it/s]\u001b[A\n",
      "Epoch 0: 100%|██████████████████████████████████████████| 235/235 [05:23<00:00,  0.73it/s, v_num=d9oj]\u001b[A"
     ]
    },
    {
     "name": "stderr",
     "output_type": "stream",
     "text": [
      "`Trainer.fit` stopped: `max_epochs=1` reached.\n"
     ]
    },
    {
     "name": "stdout",
     "output_type": "stream",
     "text": [
      "Epoch 0: 100%|██████████████████████████████████████████| 235/235 [05:28<00:00,  0.71it/s, v_num=d9oj]\n"
     ]
    },
    {
     "data": {
      "text/html": [
       "<style>\n",
       "    table.wandb td:nth-child(1) { padding: 0 10px; text-align: left ; width: auto;} td:nth-child(2) {text-align: left ; width: 100%}\n",
       "    .wandb-row { display: flex; flex-direction: row; flex-wrap: wrap; justify-content: flex-start; width: 100% }\n",
       "    .wandb-col { display: flex; flex-direction: column; flex-basis: 100%; flex: 1; padding: 10px; }\n",
       "    </style>\n",
       "<div class=\"wandb-row\"><div class=\"wandb-col\"><h3>Run history:</h3><br/><table class=\"wandb\"><tr><td>epoch</td><td>▁▁▁▁▁▁▁▁▁▁▁▁▁▁▁▁▁▁▁▁▁▁▁▁▁▁▁▁▁▁▁▁▁▁▁▁▁▁▁▁</td></tr><tr><td>nans</td><td>▁▁▁▁▁▁▁▁▁▁▁▁▁▁▁▁▁▁▁▁▁▁▁▁▁▁▁▁▁▁▁▁▁▁▁▁▁▁▁▁</td></tr><tr><td>test_loss</td><td>▁</td></tr><tr><td>train_loss</td><td>█▂▁▁▂▃▃▂▂▂▂▂▂▂▂▂▂▂▂▂▂▂▂▂▂▂▂▂▂▂▂▂▂▂▂▂▂▂▂▂</td></tr><tr><td>trainer/global_step</td><td>▁▁▁▂▂▂▂▂▂▃▃▃▃▃▄▄▄▄▄▄▅▅▅▅▅▆▆▆▆▆▆▇▇▇▇▇▇███</td></tr><tr><td>zeros</td><td>▁▁▁▁▁▁▁▁▁▁▁▁▁▁▁▁▁▁▁▁▁▁▁▁▁▁▁▁▁▁▁▁▁▁▁▁▁▁▁▁</td></tr></table><br/></div><div class=\"wandb-col\"><h3>Run summary:</h3><br/><table class=\"wandb\"><tr><td>epoch</td><td>0</td></tr><tr><td>nans</td><td>0.0</td></tr><tr><td>test_loss</td><td>0.99999</td></tr><tr><td>train_loss</td><td>0.99866</td></tr><tr><td>trainer/global_step</td><td>234</td></tr><tr><td>zeros</td><td>0.0</td></tr></table><br/></div></div>"
      ],
      "text/plain": [
       "<IPython.core.display.HTML object>"
      ]
     },
     "metadata": {},
     "output_type": "display_data"
    },
    {
     "data": {
      "text/html": [
       " View run <strong style=\"color:#cdcd00\">comic-fog-59</strong> at: <a href='https://wandb.ai/jfisher40/slow_diffusion-nbs/runs/lgzjd9oj' target=\"_blank\">https://wandb.ai/jfisher40/slow_diffusion-nbs/runs/lgzjd9oj</a><br/> View project at: <a href='https://wandb.ai/jfisher40/slow_diffusion-nbs' target=\"_blank\">https://wandb.ai/jfisher40/slow_diffusion-nbs</a><br/>Synced 5 W&B file(s), 0 media file(s), 0 artifact file(s) and 0 other file(s)"
      ],
      "text/plain": [
       "<IPython.core.display.HTML object>"
      ]
     },
     "metadata": {},
     "output_type": "display_data"
    },
    {
     "data": {
      "text/html": [
       "Find logs at: <code>./wandb/run-20240818_170544-lgzjd9oj/logs</code>"
      ],
      "text/plain": [
       "<IPython.core.display.HTML object>"
      ]
     },
     "metadata": {},
     "output_type": "display_data"
    },
    {
     "data": {
      "text/html": [
       "The new W&B backend becomes opt-out in version 0.18.0; try it out with `wandb.require(\"core\")`! See https://wandb.me/wandb-core for more information."
      ],
      "text/plain": [
       "<IPython.core.display.HTML object>"
      ]
     },
     "metadata": {},
     "output_type": "display_data"
    },
    {
     "name": "stdout",
     "output_type": "stream",
     "text": [
      "CPU times: user 4min 25s, sys: 1min 7s, total: 5min 32s\n",
      "Wall time: 5min 40s\n"
     ]
    }
   ],
   "source": [
    "%%time\n",
    "test_run(CountDeadUnitsCallback())"
   ]
  },
  {
   "cell_type": "markdown",
   "metadata": {},
   "source": [
    "Check activation distribution metrics."
   ]
  },
  {
   "cell_type": "code",
   "execution_count": 8,
   "metadata": {},
   "outputs": [],
   "source": [
    "# |exports\n",
    "class Stats:\n",
    "    def __init__(self, label, module, log, live):\n",
    "        self.label = label\n",
    "        self.hook = module.register_forward_hook(self.append)\n",
    "        self.log = log\n",
    "        self.live = live\n",
    "        self.means = []\n",
    "        self.stds = []\n",
    "\n",
    "    def append(self, module, _, activations):\n",
    "        if not module.training:\n",
    "            return\n",
    "        activations = activations.cpu()\n",
    "        mean = activations.mean().cpu().item()\n",
    "        std = activations.std().cpu().item()\n",
    "        if self.live:\n",
    "            self.log(f\"{self.label}:mean\", mean)\n",
    "            self.log(f\"{self.label}:std\", std)\n",
    "        else:\n",
    "            self.means.append(mean)\n",
    "            self.stds.append(std)\n",
    "\n",
    "    def plot(self, ax0, ax1):\n",
    "        ax0.plot(self.means)\n",
    "        ax1.plot(self.stds, label=self.label)\n",
    "\n",
    "    def cleanup(self):\n",
    "        self.hook.remove()\n",
    "\n",
    "\n",
    "class StatsCallback(L.Callback):\n",
    "    def __init__(\n",
    "        self,\n",
    "        mods: list[type[nn.Module]] | None = None,\n",
    "        mod_filter: str | None = None,\n",
    "        live=False,\n",
    "    ):\n",
    "        assert mods or mod_filter\n",
    "        self.mods = []\n",
    "        if mods is not None:\n",
    "            self.mods.extend(mods)\n",
    "        self.mod_filter = mod_filter\n",
    "        self.mod_stats = []\n",
    "        self.live = live\n",
    "\n",
    "    def on_fit_start(self, trainer, pl_module):\n",
    "        c = Counter()\n",
    "        for mod in self.mods:\n",
    "            cls_name = mod.__class__.__name__\n",
    "            name = f\"{cls_name}:{c.get(cls_name)}\"\n",
    "            s = Stats(name, mod, self.log, self.live)\n",
    "            self.mod_stats.append(s)\n",
    "            c.update((cls_name,))\n",
    "\n",
    "        if self.mod_filter is not None:\n",
    "            for name, mod in pl_module.named_modules():\n",
    "                if re.match(self.mod_filter, name):\n",
    "                    s = Stats(name, mod, self.log, self.live)\n",
    "                    self.mod_stats.append(s)\n",
    "\n",
    "    def plot(self, log=True):\n",
    "        with plt.style.context(\"ggplot\"):\n",
    "            fig, (ax0, ax1) = plt.subplots(1, 2, figsize=(8, 3))\n",
    "            ax0.set(title=\"Means\", xlabel=\"Time Step\", ylabel=\"Activation\")\n",
    "            ax1.set(title=\"STDs\", xlabel=\"Time Step\")\n",
    "            for mod_stat in self.mod_stats:\n",
    "                mod_stat.plot(ax0, ax1)\n",
    "            fig.legend(loc=7)\n",
    "            fig.subplots_adjust(right=0.75)\n",
    "            if log:\n",
    "                img = wandb.Image(fig)\n",
    "                wandb.log({\"stats\": img})\n",
    "\n",
    "    def cleanup(self):\n",
    "        if not self.live:\n",
    "            self.plot()\n",
    "        for s in self.mod_stats:\n",
    "            s.cleanup()\n",
    "\n",
    "    def on_fit_end(self, trainer, pl_module):\n",
    "        self.cleanup()\n",
    "\n",
    "    def on_exception(self, trainer, pl_module, exception):\n",
    "        self.cleanup()"
   ]
  },
  {
   "cell_type": "code",
   "execution_count": 9,
   "metadata": {},
   "outputs": [
    {
     "data": {
      "text/html": [
       "wandb version 0.17.7 is available!  To upgrade, please run:\n",
       " $ pip install wandb --upgrade"
      ],
      "text/plain": [
       "<IPython.core.display.HTML object>"
      ]
     },
     "metadata": {},
     "output_type": "display_data"
    },
    {
     "data": {
      "text/html": [
       "Tracking run with wandb version 0.17.5"
      ],
      "text/plain": [
       "<IPython.core.display.HTML object>"
      ]
     },
     "metadata": {},
     "output_type": "display_data"
    },
    {
     "data": {
      "text/html": [
       "Run data is saved locally in <code>/home/jeremy/Desktop/slow_diffusion/nbs/wandb/run-20240818_124815-dl6c8wsm</code>"
      ],
      "text/plain": [
       "<IPython.core.display.HTML object>"
      ]
     },
     "metadata": {},
     "output_type": "display_data"
    },
    {
     "data": {
      "text/html": [
       "Syncing run <strong><a href='https://wandb.ai/jfisher40/slow_diffusion-nbs/runs/dl6c8wsm' target=\"_blank\">dulcet-dream-58</a></strong> to <a href='https://wandb.ai/jfisher40/slow_diffusion-nbs' target=\"_blank\">Weights & Biases</a> (<a href='https://wandb.me/run' target=\"_blank\">docs</a>)<br/>"
      ],
      "text/plain": [
       "<IPython.core.display.HTML object>"
      ]
     },
     "metadata": {},
     "output_type": "display_data"
    },
    {
     "data": {
      "text/html": [
       " View project at <a href='https://wandb.ai/jfisher40/slow_diffusion-nbs' target=\"_blank\">https://wandb.ai/jfisher40/slow_diffusion-nbs</a>"
      ],
      "text/plain": [
       "<IPython.core.display.HTML object>"
      ]
     },
     "metadata": {},
     "output_type": "display_data"
    },
    {
     "data": {
      "text/html": [
       " View run at <a href='https://wandb.ai/jfisher40/slow_diffusion-nbs/runs/dl6c8wsm' target=\"_blank\">https://wandb.ai/jfisher40/slow_diffusion-nbs/runs/dl6c8wsm</a>"
      ],
      "text/plain": [
       "<IPython.core.display.HTML object>"
      ]
     },
     "metadata": {},
     "output_type": "display_data"
    },
    {
     "name": "stderr",
     "output_type": "stream",
     "text": [
      "Using bfloat16 Automatic Mixed Precision (AMP)\n",
      "GPU available: True (cuda), used: True\n",
      "TPU available: False, using: 0 TPU cores\n",
      "HPU available: False, using: 0 HPUs\n",
      "/home/jeremy/micromamba/envs/slow_diffusion/lib/python3.10/site-packages/lightning/pytorch/loggers/wandb.py:396: There is a wandb run already in progress and newly created instances of `WandbLogger` will reuse this run. If this is not desired, call `wandb.finish()` before instantiating `WandbLogger`.\n",
      "LOCAL_RANK: 0 - CUDA_VISIBLE_DEVICES: [0]\n",
      "Loading `train_dataloader` to estimate number of stepping batches.\n",
      "\n",
      "  | Name    | Type    | Params | Mode \n",
      "--------------------------------------------\n",
      "0 | unet    | Unet    | 185 M  | train\n",
      "1 | loss_fn | MSELoss | 0      | train\n",
      "--------------------------------------------\n",
      "185 M     Trainable params\n",
      "0         Non-trainable params\n",
      "185 M     Total params\n",
      "742.125   Total estimated model params size (MB)\n"
     ]
    },
    {
     "name": "stdout",
     "output_type": "stream",
     "text": [
      "Epoch 0: 100%|██████████████████| 235/235 [07:14<00:00,  0.54it/s, v_num=8wsm]\n",
      "Validation: |                                           | 0/? [00:00<?, ?it/s]\u001b[A\n",
      "Validation:   0%|                                      | 0/40 [00:00<?, ?it/s]\u001b[A\n",
      "Validation DataLoader 0:   0%|                         | 0/40 [00:00<?, ?it/s]\u001b[A\n",
      "Validation DataLoader 0:   2%|▍                | 1/40 [00:00<00:00, 47.85it/s]\u001b[A\n",
      "Validation DataLoader 0:   5%|▊                | 2/40 [00:00<00:00, 54.93it/s]\u001b[A\n",
      "Validation DataLoader 0:   8%|█▎               | 3/40 [00:00<00:05,  7.09it/s]\u001b[A\n",
      "Validation DataLoader 0:  10%|█▋               | 4/40 [00:00<00:07,  4.82it/s]\u001b[A\n",
      "Validation DataLoader 0:  12%|██▏              | 5/40 [00:01<00:08,  4.05it/s]\u001b[A\n",
      "Validation DataLoader 0:  15%|██▌              | 6/40 [00:01<00:09,  3.66it/s]\u001b[A\n",
      "Validation DataLoader 0:  18%|██▉              | 7/40 [00:02<00:09,  3.42it/s]\u001b[A\n",
      "Validation DataLoader 0:  20%|███▍             | 8/40 [00:02<00:09,  3.26it/s]\u001b[A\n",
      "Validation DataLoader 0:  22%|███▊             | 9/40 [00:02<00:09,  3.15it/s]\u001b[A\n",
      "Validation DataLoader 0:  25%|████            | 10/40 [00:03<00:09,  3.06it/s]\u001b[A\n",
      "Validation DataLoader 0:  28%|████▍           | 11/40 [00:03<00:09,  3.00it/s]\u001b[A\n",
      "Validation DataLoader 0:  30%|████▊           | 12/40 [00:04<00:09,  2.94it/s]\u001b[A\n",
      "Validation DataLoader 0:  32%|█████▏          | 13/40 [00:04<00:09,  2.90it/s]\u001b[A\n",
      "Validation DataLoader 0:  35%|█████▌          | 14/40 [00:04<00:09,  2.86it/s]\u001b[A\n",
      "Validation DataLoader 0:  38%|██████          | 15/40 [00:05<00:08,  2.83it/s]\u001b[A\n",
      "Validation DataLoader 0:  40%|██████▍         | 16/40 [00:05<00:08,  2.81it/s]\u001b[A\n",
      "Validation DataLoader 0:  42%|██████▊         | 17/40 [00:06<00:08,  2.78it/s]\u001b[A\n",
      "Validation DataLoader 0:  45%|███████▏        | 18/40 [00:06<00:07,  2.76it/s]\u001b[A\n",
      "Validation DataLoader 0:  48%|███████▌        | 19/40 [00:06<00:07,  2.75it/s]\u001b[A\n",
      "Validation DataLoader 0:  50%|████████        | 20/40 [00:07<00:07,  2.73it/s]\u001b[A\n",
      "Validation DataLoader 0:  52%|████████▍       | 21/40 [00:07<00:06,  2.72it/s]\u001b[A\n",
      "Validation DataLoader 0:  55%|████████▊       | 22/40 [00:08<00:06,  2.70it/s]\u001b[A\n",
      "Validation DataLoader 0:  57%|█████████▏      | 23/40 [00:08<00:06,  2.69it/s]\u001b[A\n",
      "Validation DataLoader 0:  60%|█████████▌      | 24/40 [00:08<00:05,  2.68it/s]\u001b[A\n",
      "Validation DataLoader 0:  62%|██████████      | 25/40 [00:09<00:05,  2.67it/s]\u001b[A\n",
      "Validation DataLoader 0:  65%|██████████▍     | 26/40 [00:09<00:05,  2.66it/s]\u001b[A\n",
      "Validation DataLoader 0:  68%|██████████▊     | 27/40 [00:10<00:04,  2.66it/s]\u001b[A\n",
      "Validation DataLoader 0:  70%|███████████▏    | 28/40 [00:10<00:04,  2.65it/s]\u001b[A\n",
      "Validation DataLoader 0:  72%|███████████▌    | 29/40 [00:10<00:04,  2.64it/s]\u001b[A\n",
      "Validation DataLoader 0:  75%|████████████    | 30/40 [00:11<00:03,  2.63it/s]\u001b[A\n",
      "Validation DataLoader 0:  78%|████████████▍   | 31/40 [00:11<00:03,  2.63it/s]\u001b[A\n",
      "Validation DataLoader 0:  80%|████████████▊   | 32/40 [00:12<00:03,  2.62it/s]\u001b[A\n",
      "Validation DataLoader 0:  82%|█████████████▏  | 33/40 [00:12<00:02,  2.62it/s]\u001b[A\n",
      "Validation DataLoader 0:  85%|█████████████▌  | 34/40 [00:13<00:02,  2.61it/s]\u001b[A\n",
      "Validation DataLoader 0:  88%|██████████████  | 35/40 [00:13<00:01,  2.61it/s]\u001b[A\n",
      "Validation DataLoader 0:  90%|██████████████▍ | 36/40 [00:13<00:01,  2.60it/s]\u001b[A\n",
      "Validation DataLoader 0:  92%|██████████████▊ | 37/40 [00:14<00:01,  2.60it/s]\u001b[A\n",
      "Validation DataLoader 0:  95%|███████████████▏| 38/40 [00:14<00:00,  2.60it/s]\u001b[A\n",
      "Validation DataLoader 0:  98%|███████████████▌| 39/40 [00:15<00:00,  2.59it/s]\u001b[A\n",
      "Validation DataLoader 0: 100%|████████████████| 40/40 [00:15<00:00,  2.59it/s]\u001b[A\n",
      "Epoch 0: 100%|██████████████████| 235/235 [07:31<00:00,  0.52it/s, v_num=8wsm]\u001b[A"
     ]
    },
    {
     "name": "stderr",
     "output_type": "stream",
     "text": [
      "`Trainer.fit` stopped: `max_epochs=1` reached.\n"
     ]
    },
    {
     "name": "stdout",
     "output_type": "stream",
     "text": [
      "Epoch 0: 100%|██████████████████| 235/235 [07:36<00:00,  0.51it/s, v_num=8wsm]\n"
     ]
    },
    {
     "data": {
      "text/html": [
       "<style>\n",
       "    table.wandb td:nth-child(1) { padding: 0 10px; text-align: left ; width: auto;} td:nth-child(2) {text-align: left ; width: 100%}\n",
       "    .wandb-row { display: flex; flex-direction: row; flex-wrap: wrap; justify-content: flex-start; width: 100% }\n",
       "    .wandb-col { display: flex; flex-direction: column; flex-basis: 100%; flex: 1; padding: 10px; }\n",
       "    </style>\n",
       "<div class=\"wandb-row\"><div class=\"wandb-col\"><h3>Run history:</h3><br/><table class=\"wandb\"><tr><td>epoch</td><td>▁▁▁▁▁▁▁▁▁▁▁▁▁▁▁▁▁▁▁▁▁▁▁▁▁▁▁▁▁▁▁▁▁▁▁▁▁▁▁▁</td></tr><tr><td>test_loss</td><td>▁</td></tr><tr><td>train_loss</td><td>█▁▁▁▂▂▂▂▂▂▂▂▂▂▂▂▂▂▂▂▂▂▂▂▂▂▂▂▂▂▂▂▂▂▂▂▂▂▂▂</td></tr><tr><td>trainer/global_step</td><td>▁▁▁▂▂▂▂▂▂▃▃▃▃▃▄▄▄▄▄▄▅▅▅▅▅▆▆▆▆▆▆▇▇▇▇▇▇███</td></tr></table><br/></div><div class=\"wandb-col\"><h3>Run summary:</h3><br/><table class=\"wandb\"><tr><td>epoch</td><td>0</td></tr><tr><td>test_loss</td><td>1.00009</td></tr><tr><td>train_loss</td><td>1.00623</td></tr><tr><td>trainer/global_step</td><td>234</td></tr></table><br/></div></div>"
      ],
      "text/plain": [
       "<IPython.core.display.HTML object>"
      ]
     },
     "metadata": {},
     "output_type": "display_data"
    },
    {
     "data": {
      "text/html": [
       " View run <strong style=\"color:#cdcd00\">dulcet-dream-58</strong> at: <a href='https://wandb.ai/jfisher40/slow_diffusion-nbs/runs/dl6c8wsm' target=\"_blank\">https://wandb.ai/jfisher40/slow_diffusion-nbs/runs/dl6c8wsm</a><br/> View project at: <a href='https://wandb.ai/jfisher40/slow_diffusion-nbs' target=\"_blank\">https://wandb.ai/jfisher40/slow_diffusion-nbs</a><br/>Synced 5 W&B file(s), 1 media file(s), 0 artifact file(s) and 0 other file(s)"
      ],
      "text/plain": [
       "<IPython.core.display.HTML object>"
      ]
     },
     "metadata": {},
     "output_type": "display_data"
    },
    {
     "data": {
      "text/html": [
       "Find logs at: <code>./wandb/run-20240818_124815-dl6c8wsm/logs</code>"
      ],
      "text/plain": [
       "<IPython.core.display.HTML object>"
      ]
     },
     "metadata": {},
     "output_type": "display_data"
    },
    {
     "data": {
      "text/html": [
       "The new W&B backend becomes opt-out in version 0.18.0; try it out with `wandb.require(\"core\")`! See https://wandb.me/wandb-core for more information."
      ],
      "text/plain": [
       "<IPython.core.display.HTML object>"
      ]
     },
     "metadata": {},
     "output_type": "display_data"
    },
    {
     "name": "stdout",
     "output_type": "stream",
     "text": [
      "CPU times: user 12min 3s, sys: 2min 34s, total: 14min 38s\n",
      "Wall time: 7min 49s\n"
     ]
    },
    {
     "data": {
      "image/png": "[encoded data removed]",
      "text/plain": [
       "<Figure size 800x300 with 2 Axes>"
      ]
     },
     "metadata": {},
     "output_type": "display_data"
    }
   ],
   "source": [
    "%%time\n",
    "cb = StatsCallback(mod_filter=r\"unet.(((down|up)blocks.\\d+)|start|middle|end)(?!\\.)\")\n",
    "test_run(cb)"
   ]
  },
  {
   "cell_type": "markdown",
   "metadata": {},
   "source": [
    "You can see how _bad_ the training dynamics are initially"
   ]
  },
  {
   "cell_type": "code",
   "execution_count": 10,
   "metadata": {},
   "outputs": [],
   "source": [
    "#| hide\n",
    "import nbdev\n",
    "\n",
    "nbdev.nbdev_export()"
   ]
  },
  {
   "cell_type": "code",
   "execution_count": null,
   "metadata": {},
   "outputs": [],
   "source": []
  }
 ],
 "metadata": {
  "kernelspec": {
   "display_name": "SlowDiffusion",
   "language": "python",
   "name": "slow_diffusion"
  },
  "language_info": {
   "codemirror_mode": {
    "name": "ipython",
    "version": 3
   },
   "file_extension": ".py",
   "mimetype": "text/x-python",
   "name": "python",
   "nbconvert_exporter": "python",
   "pygments_lexer": "ipython3",
   "version": "3.10.14"
  }
 },
 "nbformat": 4,
 "nbformat_minor": 4
}
