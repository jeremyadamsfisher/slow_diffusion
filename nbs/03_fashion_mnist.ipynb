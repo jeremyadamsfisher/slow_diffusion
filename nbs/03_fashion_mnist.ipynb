{
 "cells": [
  {
   "cell_type": "markdown",
   "metadata": {},
   "source": [
    "# Data - FashionMNIST\n",
    "\n",
    "> FashionMNIST DataModule"
   ]
  },
  {
   "cell_type": "code",
   "execution_count": null,
   "metadata": {},
   "outputs": [],
   "source": [
    "#| default_exp fashionmnist"
   ]
  },
  {
   "cell_type": "code",
   "execution_count": null,
   "metadata": {},
   "outputs": [],
   "source": [
    "#| export\n",
    "import lightning as L\n",
    "import torch\n",
    "import torchvision.transforms.functional as F\n",
    "\n",
    "from slow_diffusion.data import DiffusionDataModule, noisify, show_images\n",
    "from slow_diffusion.training import UnetLightning"
   ]
  },
  {
   "cell_type": "code",
   "execution_count": null,
   "metadata": {},
   "outputs": [],
   "source": [
    "# |exports\n",
    "class FashionMNISTDataModule(DiffusionDataModule):\n",
    "    \"\"\"Fasion MNIST datamodule\"\"\"\n",
    "\n",
    "    def __init__(self, bs, n_workers=0):\n",
    "        super().__init__(\n",
    "            \"fashion_mnist\",\n",
    "            bs,\n",
    "            n_workers,\n",
    "            img_size=(32, 32),\n",
    "        )\n",
    "\n",
    "    def noisify_fn(self, x_0):\n",
    "        x_0 = F.convert_image_dtype(x_0, torch.float)\n",
    "        # zero-center so that the mean does not change after adding noise\n",
    "        x_0 -= 0.5\n",
    "        return noisify(x_0)"
   ]
  },
  {
   "cell_type": "code",
   "execution_count": null,
   "metadata": {},
   "outputs": [],
   "source": [
    "dm = FashionMNISTDataModule(4)\n",
    "dm.setup()"
   ]
  },
  {
   "cell_type": "code",
   "execution_count": null,
   "metadata": {},
   "outputs": [],
   "source": [
    "def preview(dataloder, n=4):\n",
    "    (x_t, ts), _ = next(iter(dataloder))\n",
    "    show_images(x_t[:n], [f\"t={t.item():.2f}\" for t in ts[:n]])"
   ]
  },
  {
   "cell_type": "code",
   "execution_count": null,
   "metadata": {},
   "outputs": [],
   "source": [
    "preview(dm.train_dataloader());"
   ]
  },
  {
   "cell_type": "code",
   "execution_count": null,
   "metadata": {},
   "outputs": [],
   "source": [
    "preview(dm.val_dataloader());"
   ]
  },
  {
   "cell_type": "code",
   "execution_count": null,
   "metadata": {},
   "outputs": [],
   "source": [
    "unet = UnetLightning(\n",
    "    nfs=(224, 448, 672, 896),\n",
    "    n_blocks=(3, 2, 2, 1, 1),\n",
    "    color_channels=1,\n",
    ")\n",
    "trainer = L.Trainer(max_epochs=2, fast_dev_run=True)\n",
    "trainer.fit(model=unet, datamodule=dm)"
   ]
  },
  {
   "cell_type": "markdown",
   "metadata": {},
   "source": [
    "For debugging, only"
   ]
  },
  {
   "cell_type": "code",
   "execution_count": null,
   "metadata": {},
   "outputs": [],
   "source": [
    "# |exports\n",
    "class TinyFashionMNISTDataModule(FashionMNISTDataModule):\n",
    "    def post_process(self, ds):\n",
    "        return ds[\"train\"].select(range(100)).train_test_split(test_size=0.5)"
   ]
  },
  {
   "cell_type": "code",
   "execution_count": null,
   "metadata": {},
   "outputs": [],
   "source": [
    "#| hide\n",
    "import nbdev\n",
    "\n",
    "nbdev.nbdev_export()"
   ]
  },
  {
   "cell_type": "code",
   "execution_count": null,
   "metadata": {},
   "outputs": [],
   "source": []
  }
 ],
 "metadata": {
  "kernelspec": {
   "display_name": "SlowAI",
   "language": "python",
   "name": "slowai"
  },
  "language_info": {
   "codemirror_mode": {
    "name": "ipython",
    "version": 3
   },
   "file_extension": ".py",
   "mimetype": "text/x-python",
   "name": "python",
   "nbconvert_exporter": "python",
   "pygments_lexer": "ipython3",
   "version": "3.10.13"
  }
 },
 "nbformat": 4,
 "nbformat_minor": 4
}
