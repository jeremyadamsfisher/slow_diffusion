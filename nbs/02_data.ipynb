{
 "cells": [
  {
   "cell_type": "markdown",
   "metadata": {},
   "source": [
    "# Data\n",
    "\n",
    "> Core data functionality"
   ]
  },
  {
   "cell_type": "code",
   "execution_count": 1,
   "metadata": {},
   "outputs": [],
   "source": [
    "#| default_exp data"
   ]
  },
  {
   "cell_type": "code",
   "execution_count": 2,
   "metadata": {},
   "outputs": [
    {
     "name": "stderr",
     "output_type": "stream",
     "text": [
      "/Users/jeremiahfisher/miniforge3/envs/slow_diffusion/lib/python3.12/site-packages/tqdm/auto.py:21: TqdmWarning: IProgress not found. Please update jupyter and ipywidgets. See https://ipywidgets.readthedocs.io/en/stable/user_install.html\n",
      "  from .autonotebook import tqdm as notebook_tqdm\n"
     ]
    }
   ],
   "source": [
    "#| export\n",
    "import itertools\n",
    "import math\n",
    "import multiprocessing\n",
    "from pathlib import Path\n",
    "\n",
    "import lightning as L\n",
    "import matplotlib.pyplot as plt\n",
    "import torch\n",
    "import torchvision.transforms.functional as F\n",
    "from datasets import load_dataset, load_from_disk\n",
    "from einops import rearrange\n",
    "from torch.utils.data import DataLoader"
   ]
  },
  {
   "cell_type": "code",
   "execution_count": 3,
   "metadata": {},
   "outputs": [],
   "source": [
    "# |exporti\n",
    "def show_images(imgs, titles=[], figsize=(4, 4)):\n",
    "    n, *_ = imgs.shape\n",
    "    k = math.ceil(math.sqrt(n))\n",
    "    imgs = rearrange(imgs, \"bs c h w -> bs h w c\")\n",
    "    fig, axes = plt.subplots(k, k, figsize=figsize)\n",
    "    for title, img, ax in itertools.zip_longest(titles, imgs, axes.flatten()):\n",
    "        ax.imshow(img)\n",
    "        if title:\n",
    "            ax.set(title=title)\n",
    "    fig.tight_layout()\n",
    "    return fig"
   ]
  },
  {
   "cell_type": "markdown",
   "metadata": {},
   "source": [
    "## Noisify"
   ]
  },
  {
   "cell_type": "code",
   "execution_count": 4,
   "metadata": {},
   "outputs": [],
   "source": [
    "# |exports\n",
    "def ᾱ(t, reshape=True):\n",
    "    assert (0 <= t).all() and (t <= 1).all()\n",
    "    ᾱ_ = ((t * math.pi / 2).cos() ** 2).clamp(0.0, 0.999)\n",
    "    if reshape:\n",
    "        ᾱ_ = ᾱ_.reshape(-1, 1, 1, 1)\n",
    "    return ᾱ_"
   ]
  },
  {
   "cell_type": "code",
   "execution_count": 5,
   "metadata": {},
   "outputs": [],
   "source": [
    "# |exports\n",
    "def noisify(x_0, t=None):\n",
    "    n, *_ = x_0.shape\n",
    "    device = x_0.device\n",
    "\n",
    "    if t is None:\n",
    "        t = torch.rand((n,), device=device)\n",
    "\n",
    "    # Sample 2D noise for each example in the batch\n",
    "    ε = torch.randn(x_0.shape, device=device)\n",
    "\n",
    "    # Add noise according to the equation in Algorithm 1, such\n",
    "    # that the variance of the distribution does not change. Also,\n",
    "    # ensure that the overall magnitude does not change by 0-centering\n",
    "    # x_0 and 0.5-centering x_t\n",
    "    x_t = ᾱ(t).sqrt() * (x_0) + (1 - ᾱ(t)).sqrt() * ε\n",
    "\n",
    "    return ((x_t, t), ε)"
   ]
  },
  {
   "cell_type": "code",
   "execution_count": 6,
   "metadata": {},
   "outputs": [],
   "source": [
    "# |exports\n",
    "class DiffusionDataModule(L.LightningDataModule):\n",
    "    \"\"\"Lightning DataModule wrapper for huggingface datasets. Helps with\n",
    "    pre-processing the image data. Just add a noisify_fn(batch)!\"\"\"\n",
    "\n",
    "    def __init__(\n",
    "        self,\n",
    "        hf_ds_uri,\n",
    "        bs,\n",
    "        n_workers=0,\n",
    "        img_size: tuple[int, int] | None = None,\n",
    "        data_dir=\"./data\",\n",
    "    ):\n",
    "        super().__init__()\n",
    "        self.bs = bs\n",
    "        self.hf_ds_uri = hf_ds_uri\n",
    "        self.img_size = img_size\n",
    "        self._n_workers = n_workers\n",
    "        self.data_dir = Path(data_dir)\n",
    "\n",
    "    def noisify_fn(self, x_0):\n",
    "        raise NotImplementedError\n",
    "\n",
    "    def post_process(self, ds):\n",
    "        \"\"\"Optional post-processing pass after download but before freezing\"\"\"\n",
    "        raise NotImplementedError\n",
    "\n",
    "    def to_tensor(self, img):\n",
    "        if self.img_size is not None:\n",
    "            img = img.resize(self.img_size)\n",
    "        x = F.pil_to_tensor(img)\n",
    "        _, h, w = x.shape\n",
    "        assert h & (h - 1) == 0, f\"height ({h}) must be a power of two\"\n",
    "        assert w & (w - 1) == 0, f\"width ({w}) must be a power of two\"\n",
    "        return x\n",
    "\n",
    "    def _collate(self, batch):\n",
    "        x_0 = torch.stack([self.to_tensor(row[\"image\"]) for row in batch])\n",
    "        return self.noisify_fn(x_0)\n",
    "\n",
    "    def _freeze(self, batch):\n",
    "        x_0 = torch.stack([self.to_tensor(img) for img in batch[\"image\"]])\n",
    "        ((x_t, t), epsilon) = self.noisify_fn(x_0)\n",
    "        return {\"x_t\": x_t, \"t\": t, \"epsilon\": epsilon}\n",
    "\n",
    "    def _frozen_collate(self, rows):\n",
    "        def s(feature):\n",
    "            return torch.tensor([row[feature] for row in rows])\n",
    "\n",
    "        return (s(\"x_t\"), s(\"t\")), s(\"epsilon\")\n",
    "\n",
    "    @property\n",
    "    def cached_dir(self):\n",
    "        return self.data_dir / f\"{self.__class__.__name__}_{self.hf_ds_uri}\"\n",
    "\n",
    "    def clean(self):\n",
    "        self.cached_dir.unlink()\n",
    "\n",
    "    def setup(self, stage: str | None = None, test_splits=(\"test\",)):\n",
    "        if not self.cached_dir.exists():\n",
    "            ds = load_dataset(self.hf_ds_uri)\n",
    "\n",
    "            try:\n",
    "                ds = self.post_process(ds)\n",
    "            except NotImplementedError:\n",
    "                pass\n",
    "\n",
    "            for split in test_splits:\n",
    "                ds[split] = ds[split].map(\n",
    "                    self._freeze,\n",
    "                    batched=True,\n",
    "                    # We can discard the original data, as we only care about the noised information\n",
    "                    remove_columns=ds[split].features.keys(),\n",
    "                )\n",
    "\n",
    "            ds.save_to_disk(self.cached_dir)\n",
    "\n",
    "        # Load from disk to take advantage of mmapping\n",
    "        self.ds = load_from_disk(self.cached_dir)\n",
    "\n",
    "    @property\n",
    "    def n_workers(self):\n",
    "        if self._n_workers == -1:\n",
    "            return multiprocessing.cpu_count() - 1\n",
    "        else:\n",
    "            return self._n_workers\n",
    "\n",
    "    def train_dataloader(self):\n",
    "        return DataLoader(\n",
    "            self.ds[\"train\"],\n",
    "            shuffle=True,\n",
    "            batch_size=self.bs,\n",
    "            collate_fn=self._collate,\n",
    "            num_workers=self.n_workers,\n",
    "        )\n",
    "\n",
    "    def val_dataloader(self):\n",
    "        return DataLoader(\n",
    "            self.ds[\"test\"],\n",
    "            batch_size=self.bs,\n",
    "            collate_fn=self._frozen_collate,\n",
    "            num_workers=self.n_workers,\n",
    "        )"
   ]
  },
  {
   "cell_type": "code",
   "execution_count": 7,
   "metadata": {},
   "outputs": [],
   "source": [
    "#| hide\n",
    "import nbdev\n",
    "\n",
    "nbdev.nbdev_export()"
   ]
  },
  {
   "cell_type": "code",
   "execution_count": null,
   "metadata": {},
   "outputs": [],
   "source": []
  }
 ],
 "metadata": {
  "kernelspec": {
   "display_name": "SlowDiffusion",
   "language": "python",
   "name": "slow_diffusion"
  },
  "language_info": {
   "codemirror_mode": {
    "name": "ipython",
    "version": 3
   },
   "file_extension": ".py",
   "mimetype": "text/x-python",
   "name": "python",
   "nbconvert_exporter": "python",
   "pygments_lexer": "ipython3",
   "version": "3.10.14"
  }
 },
 "nbformat": 4,
 "nbformat_minor": 4
}
