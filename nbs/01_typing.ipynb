{
 "cells": [
  {
   "cell_type": "markdown",
   "metadata": {},
   "source": [
    "# Typing\n",
    "\n",
    "> Tensor types, to facilitate dimensional analysis"
   ]
  },
  {
   "cell_type": "code",
   "execution_count": null,
   "metadata": {},
   "outputs": [],
   "source": [
    "#| default_exp typing"
   ]
  },
  {
   "cell_type": "code",
   "execution_count": null,
   "metadata": {},
   "outputs": [],
   "source": [
    "#| exports\n",
    "from typing import TypeAlias\n",
    "\n",
    "from jaxtyping import Float, Int\n",
    "from torch import Tensor"
   ]
  },
  {
   "cell_type": "code",
   "execution_count": null,
   "metadata": {},
   "outputs": [],
   "source": [
    "# |exports\n",
    "InFeatureMapTensor: TypeAlias = Float[Tensor, \"bs c_in h_in w_in\"]\n",
    "OutFeatureMapTensor: TypeAlias = Float[Tensor, \"bs c_out h_out w_out\"]\n",
    "TimeStepTensor: TypeAlias = Float[Tensor, \"bs\"]  # from 0 to 1\n",
    "TimeStepEmbeddingTensor: TypeAlias = Float[Tensor, \"bs t\"]"
   ]
  },
  {
   "cell_type": "code",
   "execution_count": null,
   "metadata": {},
   "outputs": [],
   "source": [
    "#| hide\n",
    "import nbdev\n",
    "\n",
    "nbdev.nbdev_export()"
   ]
  },
  {
   "cell_type": "code",
   "execution_count": null,
   "metadata": {},
   "outputs": [],
   "source": []
  }
 ],
 "metadata": {
  "kernelspec": {
   "display_name": "slow_diffusion",
   "language": "python",
   "name": "slow_diffusion"
  }
 },
 "nbformat": 4,
 "nbformat_minor": 4
}
